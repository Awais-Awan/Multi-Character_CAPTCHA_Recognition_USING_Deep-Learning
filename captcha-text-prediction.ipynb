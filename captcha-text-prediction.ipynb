{
 "cells": [
  {
   "cell_type": "code",
   "execution_count": 1,
   "id": "9a176d73",
   "metadata": {
    "execution": {
     "iopub.execute_input": "2024-12-18T09:34:58.626514Z",
     "iopub.status.busy": "2024-12-18T09:34:58.625920Z",
     "iopub.status.idle": "2024-12-18T09:35:03.757658Z",
     "shell.execute_reply": "2024-12-18T09:35:03.756836Z"
    },
    "papermill": {
     "duration": 5.138608,
     "end_time": "2024-12-18T09:35:03.759775",
     "exception": false,
     "start_time": "2024-12-18T09:34:58.621167",
     "status": "completed"
    },
    "tags": []
   },
   "outputs": [],
   "source": [
    "import numpy as np\n",
    "import pandas as pd\n",
    "import torch\n",
    "from PIL import Image\n",
    "from torch import nn\n",
    "from torch.utils.data import DataLoader, TensorDataset\n",
    "from torchvision.transforms import ToTensor\n",
    "from torchvision.models import resnet50, ResNet50_Weights,resnet152\n",
    "import os\n",
    "import random\n",
    "from tqdm import tqdm\n",
    "import matplotlib.pyplot as plt"
   ]
  },
  {
   "cell_type": "code",
   "execution_count": null,
   "id": "ef561234",
   "metadata": {
    "execution": {
     "iopub.execute_input": "2024-12-18T09:35:03.772973Z",
     "iopub.status.busy": "2024-12-18T09:35:03.772411Z",
     "iopub.status.idle": "2024-12-18T09:35:03.851398Z",
     "shell.execute_reply": "2024-12-18T09:35:03.850440Z"
    },
    "papermill": {
     "duration": 0.088792,
     "end_time": "2024-12-18T09:35:03.853605",
     "exception": false,
     "start_time": "2024-12-18T09:35:03.764813",
     "status": "completed"
    },
    "tags": []
   },
   "outputs": [],
   "source": [
    "testDir = 'Data/test'\n",
    "trainDir = 'Data/train'\n",
    "testFiles = os.listdir(testDir)\n",
    "trainFiles = os.listdir(trainDir)"
   ]
  },
  {
   "cell_type": "code",
   "execution_count": 3,
   "id": "68f61676",
   "metadata": {
    "execution": {
     "iopub.execute_input": "2024-12-18T09:35:03.861931Z",
     "iopub.status.busy": "2024-12-18T09:35:03.861314Z",
     "iopub.status.idle": "2024-12-18T09:35:44.346798Z",
     "shell.execute_reply": "2024-12-18T09:35:44.346071Z"
    },
    "papermill": {
     "duration": 40.491531,
     "end_time": "2024-12-18T09:35:44.348819",
     "exception": false,
     "start_time": "2024-12-18T09:35:03.857288",
     "status": "completed"
    },
    "tags": []
   },
   "outputs": [],
   "source": [
    "rawTestData = []\n",
    "testDataLabels = []\n",
    "rawTrainData = []\n",
    "trainDataLabels = []\n",
    "\n",
    "imgWidth, imgHeight = Image.open(testDir + '/' + testFiles[0]).size\n",
    "\n",
    "for img in testFiles:\n",
    "    label = os.path.splitext(img.split('_')[1])[0].lower()\n",
    "    testDataLabels.append(label)\n",
    "    imgData = Image.open(testDir + '/' + img)\n",
    "    rawTestData.append(np.array(imgData))\n",
    "    \n",
    "for img in trainFiles:\n",
    "    label = os.path.splitext(img.split('_')[1])[0].lower()\n",
    "    trainDataLabels.append(label)\n",
    "    imgData = Image.open(trainDir + '/' + img)\n",
    "    rawTrainData.append(np.array(imgData))"
   ]
  },
  {
   "cell_type": "code",
   "execution_count": 4,
   "id": "80256e48",
   "metadata": {
    "execution": {
     "iopub.execute_input": "2024-12-18T09:35:44.356163Z",
     "iopub.status.busy": "2024-12-18T09:35:44.355600Z",
     "iopub.status.idle": "2024-12-18T09:35:45.365609Z",
     "shell.execute_reply": "2024-12-18T09:35:45.364650Z"
    },
    "papermill": {
     "duration": 1.015828,
     "end_time": "2024-12-18T09:35:45.367818",
     "exception": false,
     "start_time": "2024-12-18T09:35:44.351990",
     "status": "completed"
    },
    "tags": []
   },
   "outputs": [],
   "source": [
    "normTestData = np.array(rawTestData)/255\n",
    "normTrainData = np.array(rawTrainData)/255"
   ]
  },
  {
   "cell_type": "code",
   "execution_count": 5,
   "id": "af575584",
   "metadata": {
    "execution": {
     "iopub.execute_input": "2024-12-18T09:35:45.376242Z",
     "iopub.status.busy": "2024-12-18T09:35:45.375644Z",
     "iopub.status.idle": "2024-12-18T09:35:46.345882Z",
     "shell.execute_reply": "2024-12-18T09:35:46.345149Z"
    },
    "papermill": {
     "duration": 0.975807,
     "end_time": "2024-12-18T09:35:46.347897",
     "exception": false,
     "start_time": "2024-12-18T09:35:45.372090",
     "status": "completed"
    },
    "tags": []
   },
   "outputs": [],
   "source": [
    "reshapedTrainData = np.array([np.transpose(img, (2, 0, 1)) for img in normTrainData])\n",
    "reshapedTestData = np.array([np.transpose(img, (2, 0, 1)) for img in normTestData])"
   ]
  },
  {
   "cell_type": "code",
   "execution_count": 6,
   "id": "a22dcdf6",
   "metadata": {
    "execution": {
     "iopub.execute_input": "2024-12-18T09:35:46.354933Z",
     "iopub.status.busy": "2024-12-18T09:35:46.354673Z",
     "iopub.status.idle": "2024-12-18T09:35:46.359336Z",
     "shell.execute_reply": "2024-12-18T09:35:46.358500Z"
    },
    "papermill": {
     "duration": 0.010158,
     "end_time": "2024-12-18T09:35:46.361177",
     "exception": false,
     "start_time": "2024-12-18T09:35:46.351019",
     "status": "completed"
    },
    "tags": []
   },
   "outputs": [
    {
     "name": "stdout",
     "output_type": "stream",
     "text": [
      "(8501, 3, 50, 250)\n"
     ]
    }
   ],
   "source": [
    "print(reshapedTrainData.shape)"
   ]
  },
  {
   "cell_type": "code",
   "execution_count": 7,
   "id": "86158d69",
   "metadata": {
    "execution": {
     "iopub.execute_input": "2024-12-18T09:35:46.368008Z",
     "iopub.status.busy": "2024-12-18T09:35:46.367797Z",
     "iopub.status.idle": "2024-12-18T09:35:46.371905Z",
     "shell.execute_reply": "2024-12-18T09:35:46.371219Z"
    },
    "papermill": {
     "duration": 0.009221,
     "end_time": "2024-12-18T09:35:46.373405",
     "exception": false,
     "start_time": "2024-12-18T09:35:46.364184",
     "status": "completed"
    },
    "tags": []
   },
   "outputs": [],
   "source": [
    "charSet = \"0123456789abcdefghijklmnopqrstuvwxyz\"\n",
    "charToIndex = {char: i for i, char in enumerate(charSet)}\n",
    "numClasses = len(charSet)\n",
    "\n",
    "def labelToIndices(label):\n",
    "    indices = [charToIndex[char] for char in label]\n",
    "    return indices"
   ]
  },
  {
   "cell_type": "code",
   "execution_count": 8,
   "id": "0f808c67",
   "metadata": {
    "execution": {
     "iopub.execute_input": "2024-12-18T09:35:46.380196Z",
     "iopub.status.busy": "2024-12-18T09:35:46.379982Z",
     "iopub.status.idle": "2024-12-18T09:35:46.398040Z",
     "shell.execute_reply": "2024-12-18T09:35:46.397217Z"
    },
    "papermill": {
     "duration": 0.023105,
     "end_time": "2024-12-18T09:35:46.399524",
     "exception": false,
     "start_time": "2024-12-18T09:35:46.376419",
     "status": "completed"
    },
    "tags": []
   },
   "outputs": [],
   "source": [
    "testDataLabels = [x for x in testDataLabels]\n",
    "encodedTestLabels = np.array([labelToIndices(label) for label in testDataLabels])\n",
    "\n",
    "trainDataLabels = [x for x in trainDataLabels]\n",
    "encodedTrainLabels = np.array([labelToIndices(label) for label in trainDataLabels])"
   ]
  },
  {
   "cell_type": "code",
   "execution_count": 9,
   "id": "adeb2a36",
   "metadata": {
    "execution": {
     "iopub.execute_input": "2024-12-18T09:35:46.406788Z",
     "iopub.status.busy": "2024-12-18T09:35:46.406481Z",
     "iopub.status.idle": "2024-12-18T09:35:46.410084Z",
     "shell.execute_reply": "2024-12-18T09:35:46.409378Z"
    },
    "papermill": {
     "duration": 0.009311,
     "end_time": "2024-12-18T09:35:46.411845",
     "exception": false,
     "start_time": "2024-12-18T09:35:46.402534",
     "status": "completed"
    },
    "tags": []
   },
   "outputs": [],
   "source": [
    "encodedTestLabels_1, encodedTestLabels_2, encodedTestLabels_3, encodedTestLabels_4, encodedTestLabels_5, encodedTestLabels_6 = np.transpose(encodedTestLabels)\n",
    "encodedTrainLabels_1, encodedTrainLabels_2, encodedTrainLabels_3, encodedTrainLabels_4, encodedTrainLabels_5, encodedTrainLabels_6 = np.transpose(encodedTrainLabels)"
   ]
  },
  {
   "cell_type": "code",
   "execution_count": 10,
   "id": "d1b16e04",
   "metadata": {
    "execution": {
     "iopub.execute_input": "2024-12-18T09:35:46.418563Z",
     "iopub.status.busy": "2024-12-18T09:35:46.418323Z",
     "iopub.status.idle": "2024-12-18T09:35:46.484662Z",
     "shell.execute_reply": "2024-12-18T09:35:46.483664Z"
    },
    "papermill": {
     "duration": 0.071439,
     "end_time": "2024-12-18T09:35:46.486257",
     "exception": false,
     "start_time": "2024-12-18T09:35:46.414818",
     "status": "completed"
    },
    "tags": []
   },
   "outputs": [
    {
     "name": "stdout",
     "output_type": "stream",
     "text": [
      "Using cuda:0 device\n"
     ]
    }
   ],
   "source": [
    "# Get cpu, gpu or mps device for training.\n",
    "device = (\n",
    "    \"cuda:0\"\n",
    "    if torch.cuda.is_available()\n",
    "    else \"cpu\"\n",
    ")\n",
    "print(f\"Using {device} device\")"
   ]
  },
  {
   "cell_type": "code",
   "execution_count": 11,
   "id": "53b6631d",
   "metadata": {
    "execution": {
     "iopub.execute_input": "2024-12-18T09:35:46.493473Z",
     "iopub.status.busy": "2024-12-18T09:35:46.493243Z",
     "iopub.status.idle": "2024-12-18T09:35:48.060858Z",
     "shell.execute_reply": "2024-12-18T09:35:48.060065Z"
    },
    "papermill": {
     "duration": 1.573716,
     "end_time": "2024-12-18T09:35:48.063189",
     "exception": false,
     "start_time": "2024-12-18T09:35:46.489473",
     "status": "completed"
    },
    "tags": []
   },
   "outputs": [],
   "source": [
    "trainDataTensor = torch.tensor(reshapedTrainData)\n",
    "trainLabel1Tensor = torch.stack([torch.tensor(x) for x in encodedTrainLabels_1])\n",
    "trainLabel2Tensor = torch.stack([torch.tensor(x) for x in encodedTrainLabels_2])\n",
    "trainLabel3Tensor = torch.stack([torch.tensor(x) for x in encodedTrainLabels_3])\n",
    "trainLabel4Tensor = torch.stack([torch.tensor(x) for x in encodedTrainLabels_4])\n",
    "trainLabel5Tensor = torch.stack([torch.tensor(x) for x in encodedTrainLabels_5])\n",
    "trainLabel6Tensor = torch.stack([torch.tensor(x) for x in encodedTrainLabels_6])\n",
    "\n",
    "testDataTensor = torch.tensor(reshapedTestData)\n",
    "testLabel1Tensor = torch.stack([torch.tensor(x) for x in encodedTestLabels_1])\n",
    "testLabel2Tensor = torch.stack([torch.tensor(x) for x in encodedTestLabels_2])\n",
    "testLabel3Tensor = torch.stack([torch.tensor(x) for x in encodedTestLabels_3])\n",
    "testLabel4Tensor = torch.stack([torch.tensor(x) for x in encodedTestLabels_4])\n",
    "testLabel5Tensor = torch.stack([torch.tensor(x) for x in encodedTestLabels_5])\n",
    "testLabel6Tensor = torch.stack([torch.tensor(x) for x in encodedTestLabels_6])\n",
    "# trainLabel1 = encodedTrainLabels_1"
   ]
  },
  {
   "cell_type": "code",
   "execution_count": 12,
   "id": "e7602c92",
   "metadata": {
    "execution": {
     "iopub.execute_input": "2024-12-18T09:35:48.071480Z",
     "iopub.status.busy": "2024-12-18T09:35:48.070879Z",
     "iopub.status.idle": "2024-12-18T09:35:48.077755Z",
     "shell.execute_reply": "2024-12-18T09:35:48.077005Z"
    },
    "papermill": {
     "duration": 0.01258,
     "end_time": "2024-12-18T09:35:48.079243",
     "exception": false,
     "start_time": "2024-12-18T09:35:48.066663",
     "status": "completed"
    },
    "tags": []
   },
   "outputs": [],
   "source": [
    "def test(dataloader, model, criterion):\n",
    "    all_pred = []\n",
    "    all_labels = []\n",
    "    size = len(dataloader.dataset)\n",
    "    num_batches = len(dataloader)\n",
    "    model.eval()\n",
    "    test_loss, correct = 0, 0\n",
    "    with torch.no_grad():\n",
    "        for X, y in dataloader:\n",
    "            X, y = X.to(device), y.to(device)\n",
    "            X = X.type(torch.cuda.FloatTensor)\n",
    "            pred = model(X)\n",
    "            test_loss += criterion(pred, y).item()\n",
    "            correct += (pred.argmax(1) == y).type(torch.float).sum().item()\n",
    "            all_pred.append(pred.argmax(1))\n",
    "            all_labels.append(y)\n",
    "    test_loss /= num_batches\n",
    "    correct /= size\n",
    "    print(f\"Test: \\n Accuracy: {(100*correct):>0.1f}%, Loss: {test_loss:>8f} \\n\")\n",
    "    return all_pred, all_labels"
   ]
  },
  {
   "cell_type": "code",
   "execution_count": 13,
   "id": "5c7f2d22",
   "metadata": {
    "execution": {
     "iopub.execute_input": "2024-12-18T09:35:48.086968Z",
     "iopub.status.busy": "2024-12-18T09:35:48.086363Z",
     "iopub.status.idle": "2024-12-18T09:35:48.093706Z",
     "shell.execute_reply": "2024-12-18T09:35:48.093024Z"
    },
    "papermill": {
     "duration": 0.012874,
     "end_time": "2024-12-18T09:35:48.095331",
     "exception": false,
     "start_time": "2024-12-18T09:35:48.082457",
     "status": "completed"
    },
    "tags": []
   },
   "outputs": [],
   "source": [
    "def trainModel(trainDataloader, testDataloader):\n",
    "    model = resnet152(weights=\"DEFAULT\")\n",
    "    model.fc = torch.nn.Linear(in_features=2048, out_features=36)\n",
    "    criterion = nn.CrossEntropyLoss()\n",
    "    optimizer = torch.optim.Adam(model.parameters(), lr=0.0001)\n",
    "    torch.manual_seed(6868)\n",
    "    model.to(device)\n",
    "    num_epochs = 5  # Adjust as needed\n",
    "    correct = 0\n",
    "    \n",
    "    for epoch in range(num_epochs):\n",
    "        for inputs, labels in tqdm(trainDataloader):\n",
    "            inputs, labels = inputs.to(device), labels.to(device)\n",
    "            inputs = inputs.type(torch.cuda.FloatTensor)\n",
    "            optimizer.zero_grad()\n",
    "            outputs = model(inputs)\n",
    "            loss = criterion(outputs, labels)\n",
    "            loss.backward()\n",
    "            optimizer.step()\n",
    "\n",
    "            correct += (outputs.argmax(1) == labels).type(torch.float).sum().item()\n",
    "\n",
    "        correct /= len(trainDataloader.dataset)\n",
    "        print(f'Epoch [{epoch+1}/{num_epochs}], Accuracy: {(100*correct):>0.1f}, Loss: {loss.item():.4f} \\n')\n",
    "\n",
    "        test(testDataloader, model, criterion)\n",
    "        \n",
    "    return model"
   ]
  },
  {
   "cell_type": "code",
   "execution_count": 14,
   "id": "214fff45",
   "metadata": {
    "execution": {
     "iopub.execute_input": "2024-12-18T09:35:48.103024Z",
     "iopub.status.busy": "2024-12-18T09:35:48.102754Z",
     "iopub.status.idle": "2024-12-18T09:57:55.845789Z",
     "shell.execute_reply": "2024-12-18T09:57:55.844800Z"
    },
    "papermill": {
     "duration": 1327.749331,
     "end_time": "2024-12-18T09:57:55.847845",
     "exception": false,
     "start_time": "2024-12-18T09:35:48.098514",
     "status": "completed"
    },
    "tags": []
   },
   "outputs": [
    {
     "name": "stdout",
     "output_type": "stream",
     "text": [
      "Training model 1 \n",
      "\n"
     ]
    },
    {
     "name": "stderr",
     "output_type": "stream",
     "text": [
      "Downloading: \"https://download.pytorch.org/models/resnet152-f82ba261.pth\" to /root/.cache/torch/hub/checkpoints/resnet152-f82ba261.pth\n",
      "100%|██████████| 230M/230M [00:01<00:00, 217MB/s]\n",
      "100%|██████████| 266/266 [00:44<00:00,  6.03it/s]\n"
     ]
    },
    {
     "name": "stdout",
     "output_type": "stream",
     "text": [
      "Epoch [1/5], Accuracy: 68.2, Loss: 0.0367 \n",
      "\n",
      "Test: \n",
      " Accuracy: 98.2%, Loss: 0.062187 \n",
      "\n"
     ]
    },
    {
     "name": "stderr",
     "output_type": "stream",
     "text": [
      "100%|██████████| 266/266 [00:42<00:00,  6.32it/s]\n"
     ]
    },
    {
     "name": "stdout",
     "output_type": "stream",
     "text": [
      "Epoch [2/5], Accuracy: 96.4, Loss: 0.0176 \n",
      "\n",
      "Test: \n",
      " Accuracy: 98.8%, Loss: 0.060146 \n",
      "\n"
     ]
    },
    {
     "name": "stderr",
     "output_type": "stream",
     "text": [
      "100%|██████████| 266/266 [00:42<00:00,  6.32it/s]\n"
     ]
    },
    {
     "name": "stdout",
     "output_type": "stream",
     "text": [
      "Epoch [3/5], Accuracy: 98.6, Loss: 0.0078 \n",
      "\n",
      "Test: \n",
      " Accuracy: 98.9%, Loss: 0.048344 \n",
      "\n"
     ]
    },
    {
     "name": "stderr",
     "output_type": "stream",
     "text": [
      "100%|██████████| 266/266 [00:42<00:00,  6.33it/s]\n"
     ]
    },
    {
     "name": "stdout",
     "output_type": "stream",
     "text": [
      "Epoch [4/5], Accuracy: 98.6, Loss: 0.4258 \n",
      "\n",
      "Test: \n",
      " Accuracy: 99.3%, Loss: 0.029107 \n",
      "\n"
     ]
    },
    {
     "name": "stderr",
     "output_type": "stream",
     "text": [
      "100%|██████████| 266/266 [00:41<00:00,  6.35it/s]\n"
     ]
    },
    {
     "name": "stdout",
     "output_type": "stream",
     "text": [
      "Epoch [5/5], Accuracy: 98.9, Loss: 0.4041 \n",
      "\n",
      "Test: \n",
      " Accuracy: 99.1%, Loss: 0.049860 \n",
      "\n",
      "Training model 1 \n",
      "\n"
     ]
    },
    {
     "name": "stderr",
     "output_type": "stream",
     "text": [
      "100%|██████████| 266/266 [00:42<00:00,  6.30it/s]\n"
     ]
    },
    {
     "name": "stdout",
     "output_type": "stream",
     "text": [
      "Epoch [1/5], Accuracy: 52.4, Loss: 0.1149 \n",
      "\n",
      "Test: \n",
      " Accuracy: 95.8%, Loss: 0.144616 \n",
      "\n"
     ]
    },
    {
     "name": "stderr",
     "output_type": "stream",
     "text": [
      "100%|██████████| 266/266 [00:41<00:00,  6.37it/s]\n"
     ]
    },
    {
     "name": "stdout",
     "output_type": "stream",
     "text": [
      "Epoch [2/5], Accuracy: 94.3, Loss: 0.0153 \n",
      "\n",
      "Test: \n",
      " Accuracy: 98.2%, Loss: 0.069500 \n",
      "\n"
     ]
    },
    {
     "name": "stderr",
     "output_type": "stream",
     "text": [
      "100%|██████████| 266/266 [00:41<00:00,  6.37it/s]\n"
     ]
    },
    {
     "name": "stdout",
     "output_type": "stream",
     "text": [
      "Epoch [3/5], Accuracy: 97.7, Loss: 0.0182 \n",
      "\n",
      "Test: \n",
      " Accuracy: 99.0%, Loss: 0.045301 \n",
      "\n"
     ]
    },
    {
     "name": "stderr",
     "output_type": "stream",
     "text": [
      "100%|██████████| 266/266 [00:41<00:00,  6.38it/s]\n"
     ]
    },
    {
     "name": "stdout",
     "output_type": "stream",
     "text": [
      "Epoch [4/5], Accuracy: 98.3, Loss: 0.0091 \n",
      "\n",
      "Test: \n",
      " Accuracy: 97.9%, Loss: 0.073005 \n",
      "\n"
     ]
    },
    {
     "name": "stderr",
     "output_type": "stream",
     "text": [
      "100%|██████████| 266/266 [00:41<00:00,  6.39it/s]\n"
     ]
    },
    {
     "name": "stdout",
     "output_type": "stream",
     "text": [
      "Epoch [5/5], Accuracy: 98.6, Loss: 0.0026 \n",
      "\n",
      "Test: \n",
      " Accuracy: 98.5%, Loss: 0.042029 \n",
      "\n",
      "Training model 1 \n",
      "\n"
     ]
    },
    {
     "name": "stderr",
     "output_type": "stream",
     "text": [
      "100%|██████████| 266/266 [00:42<00:00,  6.33it/s]\n"
     ]
    },
    {
     "name": "stdout",
     "output_type": "stream",
     "text": [
      "Epoch [1/5], Accuracy: 49.3, Loss: 0.0727 \n",
      "\n",
      "Test: \n",
      " Accuracy: 93.8%, Loss: 0.198959 \n",
      "\n"
     ]
    },
    {
     "name": "stderr",
     "output_type": "stream",
     "text": [
      "100%|██████████| 266/266 [00:41<00:00,  6.40it/s]\n"
     ]
    },
    {
     "name": "stdout",
     "output_type": "stream",
     "text": [
      "Epoch [2/5], Accuracy: 93.9, Loss: 0.1838 \n",
      "\n",
      "Test: \n",
      " Accuracy: 97.5%, Loss: 0.100202 \n",
      "\n"
     ]
    },
    {
     "name": "stderr",
     "output_type": "stream",
     "text": [
      "100%|██████████| 266/266 [00:41<00:00,  6.40it/s]\n"
     ]
    },
    {
     "name": "stdout",
     "output_type": "stream",
     "text": [
      "Epoch [3/5], Accuracy: 97.4, Loss: 0.1450 \n",
      "\n",
      "Test: \n",
      " Accuracy: 96.9%, Loss: 0.122271 \n",
      "\n"
     ]
    },
    {
     "name": "stderr",
     "output_type": "stream",
     "text": [
      "100%|██████████| 266/266 [00:41<00:00,  6.41it/s]\n"
     ]
    },
    {
     "name": "stdout",
     "output_type": "stream",
     "text": [
      "Epoch [4/5], Accuracy: 98.5, Loss: 0.1739 \n",
      "\n",
      "Test: \n",
      " Accuracy: 97.8%, Loss: 0.085944 \n",
      "\n"
     ]
    },
    {
     "name": "stderr",
     "output_type": "stream",
     "text": [
      "100%|██████████| 266/266 [00:41<00:00,  6.41it/s]\n"
     ]
    },
    {
     "name": "stdout",
     "output_type": "stream",
     "text": [
      "Epoch [5/5], Accuracy: 98.6, Loss: 0.0061 \n",
      "\n",
      "Test: \n",
      " Accuracy: 98.3%, Loss: 0.074209 \n",
      "\n",
      "Training model 1 \n",
      "\n"
     ]
    },
    {
     "name": "stderr",
     "output_type": "stream",
     "text": [
      "100%|██████████| 266/266 [00:41<00:00,  6.35it/s]\n"
     ]
    },
    {
     "name": "stdout",
     "output_type": "stream",
     "text": [
      "Epoch [1/5], Accuracy: 46.9, Loss: 0.1439 \n",
      "\n",
      "Test: \n",
      " Accuracy: 93.9%, Loss: 0.197786 \n",
      "\n"
     ]
    },
    {
     "name": "stderr",
     "output_type": "stream",
     "text": [
      "100%|██████████| 266/266 [00:41<00:00,  6.41it/s]\n"
     ]
    },
    {
     "name": "stdout",
     "output_type": "stream",
     "text": [
      "Epoch [2/5], Accuracy: 93.3, Loss: 0.3603 \n",
      "\n",
      "Test: \n",
      " Accuracy: 96.9%, Loss: 0.110361 \n",
      "\n"
     ]
    },
    {
     "name": "stderr",
     "output_type": "stream",
     "text": [
      "100%|██████████| 266/266 [00:41<00:00,  6.40it/s]\n"
     ]
    },
    {
     "name": "stdout",
     "output_type": "stream",
     "text": [
      "Epoch [3/5], Accuracy: 97.2, Loss: 0.0207 \n",
      "\n",
      "Test: \n",
      " Accuracy: 97.5%, Loss: 0.094590 \n",
      "\n"
     ]
    },
    {
     "name": "stderr",
     "output_type": "stream",
     "text": [
      "100%|██████████| 266/266 [00:41<00:00,  6.35it/s]\n"
     ]
    },
    {
     "name": "stdout",
     "output_type": "stream",
     "text": [
      "Epoch [4/5], Accuracy: 98.3, Loss: 0.0012 \n",
      "\n",
      "Test: \n",
      " Accuracy: 97.9%, Loss: 0.086016 \n",
      "\n"
     ]
    },
    {
     "name": "stderr",
     "output_type": "stream",
     "text": [
      "100%|██████████| 266/266 [00:41<00:00,  6.35it/s]\n"
     ]
    },
    {
     "name": "stdout",
     "output_type": "stream",
     "text": [
      "Epoch [5/5], Accuracy: 98.1, Loss: 0.0277 \n",
      "\n",
      "Test: \n",
      " Accuracy: 94.4%, Loss: 0.199567 \n",
      "\n",
      "Training model 1 \n",
      "\n"
     ]
    },
    {
     "name": "stderr",
     "output_type": "stream",
     "text": [
      "100%|██████████| 266/266 [00:42<00:00,  6.28it/s]\n"
     ]
    },
    {
     "name": "stdout",
     "output_type": "stream",
     "text": [
      "Epoch [1/5], Accuracy: 54.4, Loss: 0.0563 \n",
      "\n",
      "Test: \n",
      " Accuracy: 95.1%, Loss: 0.164150 \n",
      "\n"
     ]
    },
    {
     "name": "stderr",
     "output_type": "stream",
     "text": [
      "100%|██████████| 266/266 [00:41<00:00,  6.35it/s]\n"
     ]
    },
    {
     "name": "stdout",
     "output_type": "stream",
     "text": [
      "Epoch [2/5], Accuracy: 94.4, Loss: 0.0102 \n",
      "\n",
      "Test: \n",
      " Accuracy: 97.8%, Loss: 0.075619 \n",
      "\n"
     ]
    },
    {
     "name": "stderr",
     "output_type": "stream",
     "text": [
      "100%|██████████| 266/266 [00:41<00:00,  6.34it/s]\n"
     ]
    },
    {
     "name": "stdout",
     "output_type": "stream",
     "text": [
      "Epoch [3/5], Accuracy: 97.8, Loss: 0.0015 \n",
      "\n",
      "Test: \n",
      " Accuracy: 96.7%, Loss: 0.118922 \n",
      "\n"
     ]
    },
    {
     "name": "stderr",
     "output_type": "stream",
     "text": [
      "100%|██████████| 266/266 [00:41<00:00,  6.35it/s]\n"
     ]
    },
    {
     "name": "stdout",
     "output_type": "stream",
     "text": [
      "Epoch [4/5], Accuracy: 98.2, Loss: 0.0035 \n",
      "\n",
      "Test: \n",
      " Accuracy: 98.3%, Loss: 0.063070 \n",
      "\n"
     ]
    },
    {
     "name": "stderr",
     "output_type": "stream",
     "text": [
      "100%|██████████| 266/266 [00:41<00:00,  6.35it/s]\n"
     ]
    },
    {
     "name": "stdout",
     "output_type": "stream",
     "text": [
      "Epoch [5/5], Accuracy: 99.0, Loss: 0.0558 \n",
      "\n",
      "Test: \n",
      " Accuracy: 98.4%, Loss: 0.060488 \n",
      "\n",
      "Training model 1 \n",
      "\n"
     ]
    },
    {
     "name": "stderr",
     "output_type": "stream",
     "text": [
      "100%|██████████| 266/266 [00:41<00:00,  6.34it/s]\n"
     ]
    },
    {
     "name": "stdout",
     "output_type": "stream",
     "text": [
      "Epoch [1/5], Accuracy: 72.7, Loss: 0.0779 \n",
      "\n",
      "Test: \n",
      " Accuracy: 97.6%, Loss: 0.093626 \n",
      "\n"
     ]
    },
    {
     "name": "stderr",
     "output_type": "stream",
     "text": [
      "100%|██████████| 266/266 [00:41<00:00,  6.43it/s]\n"
     ]
    },
    {
     "name": "stdout",
     "output_type": "stream",
     "text": [
      "Epoch [2/5], Accuracy: 96.8, Loss: 0.1076 \n",
      "\n",
      "Test: \n",
      " Accuracy: 97.2%, Loss: 0.100979 \n",
      "\n"
     ]
    },
    {
     "name": "stderr",
     "output_type": "stream",
     "text": [
      "100%|██████████| 266/266 [00:41<00:00,  6.42it/s]\n"
     ]
    },
    {
     "name": "stdout",
     "output_type": "stream",
     "text": [
      "Epoch [3/5], Accuracy: 99.1, Loss: 0.0018 \n",
      "\n",
      "Test: \n",
      " Accuracy: 99.5%, Loss: 0.018643 \n",
      "\n"
     ]
    },
    {
     "name": "stderr",
     "output_type": "stream",
     "text": [
      "100%|██████████| 266/266 [00:41<00:00,  6.43it/s]\n"
     ]
    },
    {
     "name": "stdout",
     "output_type": "stream",
     "text": [
      "Epoch [4/5], Accuracy: 99.4, Loss: 0.2266 \n",
      "\n",
      "Test: \n",
      " Accuracy: 99.4%, Loss: 0.022540 \n",
      "\n"
     ]
    },
    {
     "name": "stderr",
     "output_type": "stream",
     "text": [
      "100%|██████████| 266/266 [00:41<00:00,  6.43it/s]\n"
     ]
    },
    {
     "name": "stdout",
     "output_type": "stream",
     "text": [
      "Epoch [5/5], Accuracy: 99.1, Loss: 0.0086 \n",
      "\n",
      "Test: \n",
      " Accuracy: 97.1%, Loss: 0.106408 \n",
      "\n"
     ]
    }
   ],
   "source": [
    "trainLabelsTensors = [trainLabel1Tensor, trainLabel2Tensor, trainLabel3Tensor, trainLabel4Tensor, trainLabel5Tensor, trainLabel6Tensor]\n",
    "testLabelsTensors = [testLabel1Tensor, testLabel2Tensor, testLabel3Tensor, testLabel4Tensor, testLabel5Tensor, testLabel6Tensor]\n",
    "models = []\n",
    "\n",
    "for trainLabelTensor, testLabelTensor in zip(trainLabelsTensors, testLabelsTensors):\n",
    "    trainDataset = TensorDataset(trainDataTensor, trainLabelTensor)\n",
    "    trainDataloader = DataLoader(trainDataset, batch_size=32, shuffle=True)\n",
    "    testDataset = TensorDataset(testDataTensor, testLabelTensor)\n",
    "    testDataloader = DataLoader(testDataset, batch_size=32)\n",
    "    \n",
    "    print(\"Training model 1 \\n\")\n",
    "    models.append(trainModel(trainDataloader, testDataloader))"
   ]
  },
  {
   "cell_type": "code",
   "execution_count": 15,
   "id": "9cae02ac",
   "metadata": {
    "execution": {
     "iopub.execute_input": "2024-12-18T09:57:56.579526Z",
     "iopub.status.busy": "2024-12-18T09:57:56.579181Z",
     "iopub.status.idle": "2024-12-18T09:57:56.583830Z",
     "shell.execute_reply": "2024-12-18T09:57:56.582996Z"
    },
    "papermill": {
     "duration": 0.350734,
     "end_time": "2024-12-18T09:57:56.585447",
     "exception": false,
     "start_time": "2024-12-18T09:57:56.234713",
     "status": "completed"
    },
    "tags": []
   },
   "outputs": [],
   "source": [
    "indexToChar = {i: char for i, char in enumerate(charSet)}\n",
    "\n",
    "def indicesToLabel(lst):\n",
    "    string = [indexToChar[idx] for idx in lst]\n",
    "    return string"
   ]
  },
  {
   "cell_type": "code",
   "execution_count": 16,
   "id": "b23a4957",
   "metadata": {
    "execution": {
     "iopub.execute_input": "2024-12-18T09:57:57.314472Z",
     "iopub.status.busy": "2024-12-18T09:57:57.313652Z",
     "iopub.status.idle": "2024-12-18T09:57:57.319037Z",
     "shell.execute_reply": "2024-12-18T09:57:57.318282Z"
    },
    "papermill": {
     "duration": 0.394189,
     "end_time": "2024-12-18T09:57:57.320695",
     "exception": false,
     "start_time": "2024-12-18T09:57:56.926506",
     "status": "completed"
    },
    "tags": []
   },
   "outputs": [],
   "source": [
    "def combineOutputs(img):\n",
    "    img = img.type(torch.cuda.FloatTensor)\n",
    "    captcha = []\n",
    "    for model in models:\n",
    "        labelTensor = model(torch.unsqueeze(img, 0)).argmax(1)\n",
    "        label = labelTensor.cpu().numpy()[0]\n",
    "        captcha.append(label)\n",
    "        \n",
    "    captcha = indicesToLabel(captcha)\n",
    "    captchaStr = \"\"\n",
    "    for c in captcha: captchaStr += c\n",
    "        \n",
    "    return captchaStr"
   ]
  },
  {
   "cell_type": "code",
   "execution_count": 17,
   "id": "4a6188c6",
   "metadata": {
    "execution": {
     "iopub.execute_input": "2024-12-18T09:57:58.040086Z",
     "iopub.status.busy": "2024-12-18T09:57:58.039715Z",
     "iopub.status.idle": "2024-12-18T09:57:58.044630Z",
     "shell.execute_reply": "2024-12-18T09:57:58.043954Z"
    },
    "papermill": {
     "duration": 0.385325,
     "end_time": "2024-12-18T09:57:58.046096",
     "exception": false,
     "start_time": "2024-12-18T09:57:57.660771",
     "status": "completed"
    },
    "tags": []
   },
   "outputs": [],
   "source": [
    "def testFullCaptcha(testDataTensor):\n",
    "    predList = []\n",
    "    for i in testDataTensor:\n",
    "        predList.append(combineOutputs(i))\n",
    "        \n",
    "    correctPreds = 0\n",
    "    for pred, actual in zip(predList, testDataLabels):\n",
    "        if pred == actual:\n",
    "            correctPreds += 1\n",
    "    \n",
    "    acc = correctPreds/len(predList)\n",
    "    print(f'Accuracy: {acc*100}%')"
   ]
  },
  {
   "cell_type": "code",
   "execution_count": 18,
   "id": "8452f4a7",
   "metadata": {
    "execution": {
     "iopub.execute_input": "2024-12-18T09:57:58.731783Z",
     "iopub.status.busy": "2024-12-18T09:57:58.731413Z",
     "iopub.status.idle": "2024-12-18T10:01:04.401196Z",
     "shell.execute_reply": "2024-12-18T10:01:04.400242Z"
    },
    "papermill": {
     "duration": 186.401204,
     "end_time": "2024-12-18T10:01:04.790531",
     "exception": false,
     "start_time": "2024-12-18T09:57:58.389327",
     "status": "completed"
    },
    "tags": []
   },
   "outputs": [
    {
     "name": "stdout",
     "output_type": "stream",
     "text": [
      "Accuracy: 86.53333333333333%\n"
     ]
    }
   ],
   "source": [
    "testFullCaptcha(testDataTensor)"
   ]
  },
  {
   "cell_type": "code",
   "execution_count": 19,
   "id": "df66f702",
   "metadata": {
    "execution": {
     "iopub.execute_input": "2024-12-18T10:01:05.465685Z",
     "iopub.status.busy": "2024-12-18T10:01:05.465052Z",
     "iopub.status.idle": "2024-12-18T10:01:05.813359Z",
     "shell.execute_reply": "2024-12-18T10:01:05.812515Z"
    },
    "papermill": {
     "duration": 0.68666,
     "end_time": "2024-12-18T10:01:05.815120",
     "exception": false,
     "start_time": "2024-12-18T10:01:05.128460",
     "status": "completed"
    },
    "tags": []
   },
   "outputs": [
    {
     "name": "stdout",
     "output_type": "stream",
     "text": [
      "Predicted label: rfefnu\n",
      "Real Label: rfefnu\n"
     ]
    },
    {
     "data": {
      "text/plain": [
       "<matplotlib.image.AxesImage at 0x79450c8f38e0>"
      ]
     },
     "execution_count": 19,
     "metadata": {},
     "output_type": "execute_result"
    },
    {
     "data": {
      "image/png": "[encoded data removed]",
      "text/plain": [
       "<Figure size 640x480 with 1 Axes>"
      ]
     },
     "metadata": {},
     "output_type": "display_data"
    }
   ],
   "source": [
    "randCaptcha = random.randint(0, 1499)\n",
    "print(f\"Predicted label: {combineOutputs(testDataTensor[randCaptcha].to(device))}\")\n",
    "print(f\"Real Label: {testDataLabels[randCaptcha]}\")\n",
    "plt.imshow(testDataTensor[randCaptcha].cpu().permute(1, 2, 0))"
   ]
  }
 ],
 "metadata": {
  "kaggle": {
   "accelerator": "gpu",
   "dataSources": [
    {
     "datasetId": 4029245,
     "sourceId": 7009880,
     "sourceType": "datasetVersion"
    }
   ],
   "dockerImageVersionId": 30804,
   "isGpuEnabled": true,
   "isInternetEnabled": true,
   "language": "python",
   "sourceType": "notebook"
  },
  "kernelspec": {
   "display_name": "Python 3",
   "language": "python",
   "name": "python3"
  },
  "language_info": {
   "codemirror_mode": {
    "name": "ipython",
    "version": 3
   },
   "file_extension": ".py",
   "mimetype": "text/x-python",
   "name": "python",
   "nbconvert_exporter": "python",
   "pygments_lexer": "ipython3",
   "version": "3.10.14"
  },
  "papermill": {
   "default_parameters": {},
   "duration": 1572.370446,
   "end_time": "2024-12-18T10:01:08.624014",
   "environment_variables": {},
   "exception": null,
   "input_path": "__notebook__.ipynb",
   "output_path": "__notebook__.ipynb",
   "parameters": {},
   "start_time": "2024-12-18T09:34:56.253568",
   "version": "2.6.0"
  }
 },
 "nbformat": 4,
 "nbformat_minor": 5
}
